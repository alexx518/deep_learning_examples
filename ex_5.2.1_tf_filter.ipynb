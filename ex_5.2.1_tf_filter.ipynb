{
 "cells": [
  {
   "cell_type": "code",
   "execution_count": 3,
   "metadata": {},
   "outputs": [
    {
     "name": "stdout",
     "output_type": "stream",
     "text": [
      "padding=VALID:\n",
      " [[ 9.  5.  4.]\n",
      " [ 8.  8. 10.]\n",
      " [ 8. 15. 12.]]\n",
      "padding=SAME:\n",
      " [[ 5. 11.  4.  3.  3.]\n",
      " [ 3.  9.  5.  4.  4.]\n",
      " [ 5.  8.  8. 10.  3.]\n",
      " [ 4.  8. 15. 12.  6.]\n",
      " [ 5.  5.  9.  4.  2.]]\n",
      "padding=VALID, stride 2:\n",
      " [[ 9.  4.]\n",
      " [ 8. 12.]]\n",
      "padding=SAME, stride 2:\n",
      " [[5. 4. 3.]\n",
      " [5. 8. 3.]\n",
      " [5. 9. 2.]]\n"
     ]
    }
   ],
   "source": [
    "import tensorflow as tf\n",
    "import numpy as np\n",
    "\n",
    "x_inp = tf.placeholder(tf.float32, [5, 5])\n",
    "w_inp = tf.placeholder(tf.float32, [3, 3])\n",
    "\n",
    "x = tf.reshape(x_inp, [1, 5, 5, 1])\n",
    "w = tf.reshape(w_inp, [3, 3, 1, 1])\n",
    "\n",
    "x_valid = tf.nn.conv2d(x, w, strides=[1,1,1,1], padding=\"VALID\")\n",
    "x_same  = tf.nn.conv2d(x, w, strides=[1, 1, 1, 1], padding= \"SAME\" )\n",
    "x_valid_half = tf.nn.conv2d(x, w, strides=[1, 2, 2, 1], padding= \"VALID\")\n",
    "x_same_half  = tf.nn.conv2d(x, w, strides=[1, 2, 2, 1], padding= \"SAME\")\n",
    "\n",
    "x_ = np.array([[0, 1, 2, 1, 0],\n",
    "              [4, 1, 0, 1, 0],\n",
    "              [2, 0, 1, 1, 1],\n",
    "              [1, 2, 3, 1, 0],\n",
    "              [0, 4, 3, 2, 0]])\n",
    "\n",
    "w_ = np.array([[0, 1, 0],\n",
    "              [1, 0, 1],\n",
    "              [2, 1, 0]])\n",
    "\n",
    "sess = tf.Session()\n",
    "y_valid, y_same, y_valid_half, y_same_half = sess.run(\n",
    "    [x_valid, x_same, x_valid_half, x_same_half],\n",
    "    feed_dict={x_inp: x_, w_inp: w_})\n",
    "\n",
    "\n",
    "print(\"padding=VALID:\\n\", y_valid[0, :, :, 0])\n",
    "print(\"padding=SAME:\\n\", y_same[0, :, :, 0])\n",
    "print(\"padding=VALID, stride 2:\\n\", y_valid_half[0, :, :, 0])\n",
    "print(\"padding=SAME, stride 2:\\n\", y_same_half[0, :, :, 0])"
   ]
  }
 ],
 "metadata": {
  "kernelspec": {
   "display_name": "Python 3",
   "language": "python",
   "name": "python3"
  },
  "language_info": {
   "codemirror_mode": {
    "name": "ipython",
    "version": 3
   },
   "file_extension": ".py",
   "mimetype": "text/x-python",
   "name": "python",
   "nbconvert_exporter": "python",
   "pygments_lexer": "ipython3",
   "version": "3.6.3"
  }
 },
 "nbformat": 4,
 "nbformat_minor": 2
}
