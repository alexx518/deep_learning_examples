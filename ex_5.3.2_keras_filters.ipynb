{
 "cells": [
  {
   "cell_type": "code",
   "execution_count": 1,
   "metadata": {},
   "outputs": [
    {
     "name": "stderr",
     "output_type": "stream",
     "text": [
      "/home/bekin/.local/lib/python3.6/site-packages/h5py/__init__.py:36: FutureWarning: Conversion of the second argument of issubdtype from `float` to `np.floating` is deprecated. In future, it will be treated as `np.float64 == np.dtype(float).type`.\n",
      "  from ._conv import register_converters as _register_converters\n",
      "Using TensorFlow backend.\n"
     ]
    },
    {
     "name": "stdout",
     "output_type": "stream",
     "text": [
      "Train on 60000 samples, validate on 10000 samples\n",
      "Epoch 1/5\n",
      "60000/60000 [==============================] - 147s 2ms/step - loss: 0.1289 - acc: 0.9588 - val_loss: 0.0375 - val_acc: 0.9875\n",
      "Epoch 2/5\n",
      "60000/60000 [==============================] - 127s 2ms/step - loss: 0.0428 - acc: 0.9863 - val_loss: 0.0233 - val_acc: 0.9926\n",
      "Epoch 3/5\n",
      "60000/60000 [==============================] - 133s 2ms/step - loss: 0.0315 - acc: 0.9906 - val_loss: 0.0219 - val_acc: 0.9929\n",
      "Epoch 4/5\n",
      "60000/60000 [==============================] - 135s 2ms/step - loss: 0.0243 - acc: 0.9921 - val_loss: 0.0266 - val_acc: 0.9915\n",
      "Epoch 5/5\n",
      "60000/60000 [==============================] - 135s 2ms/step - loss: 0.0209 - acc: 0.9933 - val_loss: 0.0201 - val_acc: 0.9934\n",
      "Test score: 0.020063\n",
      "Test accuracy: 0.993400\n"
     ]
    }
   ],
   "source": [
    "from keras.datasets import mnist\n",
    "from keras.models import Sequential\n",
    "from keras.layers import Dense, Dropout, Activation, Flatten\n",
    "from keras.layers import Convolution2D, MaxPooling2D\n",
    "from keras.utils import np_utils\n",
    "from keras.callbacks import ModelCheckpoint\n",
    "\n",
    "batch_size, img_rows, img_cols = 64, 28, 28\n",
    "input_shape = (img_rows, img_cols, 1)\n",
    "\n",
    "(x_train, y_train), (x_test, y_test) = mnist.load_data()\n",
    "\n",
    "x_train = x_train.reshape(x_train.shape[0], img_rows, img_cols, 1)\n",
    "x_test  = x_test.reshape( x_test.shape[0] , img_rows, img_cols, 1)\n",
    "\n",
    "x_train = x_train.astype(\"float32\") / 255\n",
    "x_test  = x_test.astype(\"float32\")  / 255\n",
    "\n",
    "y_train = np_utils.to_categorical(y_train, 10)\n",
    "y_test = np_utils.to_categorical(y_test, 10)\n",
    "\n",
    "model = Sequential()\n",
    "model.add(Convolution2D(32, (5, 5), input_shape=input_shape, padding=\"same\"))\n",
    "model.add(Activation(\"relu\"))\n",
    "model.add(MaxPooling2D(pool_size=(2, 2), strides=(2, 2), padding=\"same\"))\n",
    "\n",
    "model.add(Convolution2D(64, (5, 5), input_shape=input_shape, padding=\"same\"))\n",
    "model.add(Activation(\"relu\"))\n",
    "model.add(MaxPooling2D(pool_size=(2, 2), strides=(2, 2), padding=\"same\"))\n",
    "\n",
    "model.add(Flatten()) # reshape [28, 28] -> [784]\n",
    "model.add(Dense(1024))\n",
    "model.add(Activation(\"relu\"))\n",
    "\n",
    "model.add(Dropout(0.5))\n",
    "\n",
    "model.add(Dense(10))\n",
    "model.add(Activation(\"softmax\"))\n",
    "\n",
    "model.compile(loss=\"categorical_crossentropy\", optimizer=\"adam\", metrics=[\"accuracy\"])\n",
    "model.fit(x_train, y_train, batch_size=batch_size, \n",
    "          epochs=5, verbose=1, validation_data=(x_test, y_test),\n",
    "          callbacks=[ModelCheckpoint(\"model.hdf5\", monitor= \"val_acc\",\n",
    "                                     save_best_only=True, save_weights_only=False, mode= \"auto\")])\n",
    "\n",
    "score = model.evaluate(x_test, y_test, verbose=0)\n",
    "\n",
    "print(\"Test score: %f\" % score[0])\n",
    "print(\"Test accuracy: %f\" % score[1])"
   ]
  }
 ],
 "metadata": {
  "kernelspec": {
   "display_name": "Python 3",
   "language": "python",
   "name": "python3"
  },
  "language_info": {
   "codemirror_mode": {
    "name": "ipython",
    "version": 3
   },
   "file_extension": ".py",
   "mimetype": "text/x-python",
   "name": "python",
   "nbconvert_exporter": "python",
   "pygments_lexer": "ipython3",
   "version": "3.6.3"
  }
 },
 "nbformat": 4,
 "nbformat_minor": 2
}
