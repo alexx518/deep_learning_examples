{
 "cells": [
  {
   "cell_type": "code",
   "execution_count": 5,
   "metadata": {},
   "outputs": [
    {
     "name": "stdout",
     "output_type": "stream",
     "text": [
      "padding=VALID:\n",
      " [[4. 2. 2.]\n",
      " [4. 1. 1.]\n",
      " [2. 3. 3.]]\n",
      "padding=VALID, stride 2:\n",
      " [[4. 2.]\n",
      " [2. 3.]]\n"
     ]
    }
   ],
   "source": [
    "import tensorflow as tf\n",
    "import numpy as np\n",
    "\n",
    "x_inp = tf.placeholder(tf.float32, [4, 4])\n",
    "x = tf.reshape(x_inp, [1, 4, 4, 1])\n",
    "\n",
    "x_valid      = tf.nn.max_pool(x, ksize=[1,2,2,1], strides=[1,1,1,1], padding=\"VALID\")\n",
    "x_valid_half = tf.nn.max_pool(x, ksize=[1,2,2,1], strides=[1,2,2,1], padding=\"VALID\")\n",
    "\n",
    "x_ = np.array([[0, 1, 2, 1],\n",
    "              [4, 1, 0, 1],\n",
    "              [2, 0, 1, 1],\n",
    "              [1, 2, 3, 1]])\n",
    "\n",
    "sess = tf.Session()\n",
    "y_valid, y_valid_half = sess.run(\n",
    "    [x_valid, x_valid_half], feed_dict={x_inp: x_})\n",
    "\n",
    "print(\"padding=VALID:\\n\", y_valid[0, :, :, 0])\n",
    "print(\"padding=VALID, stride 2:\\n\", y_valid_half[0, :, :, 0])"
   ]
  }
 ],
 "metadata": {
  "kernelspec": {
   "display_name": "Python 3",
   "language": "python",
   "name": "python3"
  },
  "language_info": {
   "codemirror_mode": {
    "name": "ipython",
    "version": 3
   },
   "file_extension": ".py",
   "mimetype": "text/x-python",
   "name": "python",
   "nbconvert_exporter": "python",
   "pygments_lexer": "ipython3",
   "version": "3.6.3"
  }
 },
 "nbformat": 4,
 "nbformat_minor": 2
}
